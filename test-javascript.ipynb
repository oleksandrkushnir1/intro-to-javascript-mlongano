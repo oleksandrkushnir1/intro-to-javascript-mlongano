{
 "cells": [
  {
   "cell_type": "code",
   "execution_count": 42,
   "metadata": {},
   "outputs": [
    {
     "name": "stdout",
     "output_type": "stream",
     "text": [
      "Hello, World!\n"
     ]
    }
   ],
   "source": [
    "console.log('Hello, World!');\n"
   ]
  },
  {
   "cell_type": "markdown",
   "metadata": {},
   "source": [
    "# Esempi di come si comportano i tipi di dati primitivi "
   ]
  },
  {
   "cell_type": "code",
   "execution_count": null,
   "metadata": {},
   "outputs": [],
   "source": [
    "{\n",
    "    let age = 22;\n",
    "    let age1 = age;\n",
    "    age = 31;\n",
    "    console.log(age1);\n",
    "    console.log(age);\n",
    "\n",
    "    let immutable = \"hello\";\n",
    "    let copy = immutable.slice(0,3); // permette di estrarre dei pezzi di stringa\n",
    "    console.log(immutable);\n",
    "    console.log(copy);\n",
    "\n",
    "    let mutable = [1,2,3];\n",
    "    let mutablecopy = mutable;\n",
    "    typeof mutable;\n",
    "    typeof \"Hello\";\n",
    "    typeof [];\n",
    "    typeof {};\n",
    "}"
   ]
  }
 ],
 "metadata": {
  "kernelspec": {
   "display_name": "Deno",
   "language": "typescript",
   "name": "deno"
  },
  "language_info": {
   "file_extension": ".ts",
   "mimetype": "text/x.typescript",
   "name": "typescript",
   "nb_converter": "script",
   "pygments_lexer": "typescript",
   "version": "5.3.3"
  }
 },
 "nbformat": 4,
 "nbformat_minor": 4
}
