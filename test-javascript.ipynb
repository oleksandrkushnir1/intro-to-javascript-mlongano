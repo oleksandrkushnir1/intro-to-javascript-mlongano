{
 "cells": [
  {
   "cell_type": "code",
   "execution_count": 5,
   "metadata": {},
   "outputs": [
    {
     "name": "stdout",
     "output_type": "stream",
     "text": [
      "Hello, World!\n"
     ]
    }
   ],
   "source": [
    "console.log('Hello, World!');\n"
   ]
  },
  {
   "cell_type": "markdown",
   "metadata": {},
   "source": [
    "# Esempi di come si comportano i tipi di dati primitivi "
   ]
  },
  {
   "cell_type": "code",
   "execution_count": 6,
   "metadata": {},
   "outputs": [
    {
     "name": "stdout",
     "output_type": "stream",
     "text": [
      "22\n",
      "31\n",
      "hello\n",
      "hel\n"
     ]
    },
    {
     "data": {
      "text/plain": [
       "\u001b[32m\"object\"\u001b[39m"
      ]
     },
     "execution_count": 6,
     "metadata": {},
     "output_type": "execute_result"
    }
   ],
   "source": [
    "{\n",
    "    let age = 22;\n",
    "    let age1 = age;\n",
    "    age = 31;\n",
    "    console.log(age1);\n",
    "    console.log(age);\n",
    "\n",
    "    let immutable = \"hello\";\n",
    "    let copy = immutable.slice(0,3); // permette di estrarre dei pezzi di stringa\n",
    "    console.log(immutable);\n",
    "    console.log(copy);\n",
    "\n",
    "    let mutable = [1,2,3];\n",
    "    let mutablecopy = mutable;\n",
    "    typeof mutable;\n",
    "    typeof \"Hello\";\n",
    "    typeof [];\n",
    "    typeof {};\n",
    "}"
   ]
  },
  {
   "cell_type": "code",
   "execution_count": 7,
   "metadata": {},
   "outputs": [
    {
     "name": "stdout",
     "output_type": "stream",
     "text": [
      "[ 1, 2, 2, 4 ]\n",
      "[ 1, 2, 2, 4 ]\n"
     ]
    }
   ],
   "source": [
    "let mutable = [1,2,3];\n",
    "let mutablecopy = mutable;\n",
    "mutablecopy.push(4);\n",
    "console.log(mutable);\n",
    "console.log(mutablecopy);\n"
   ]
  },
  {
   "cell_type": "code",
   "execution_count": 27,
   "metadata": {},
   "outputs": [
    {
     "name": "stdout",
     "output_type": "stream",
     "text": [
      "0.30000000000000004\n",
      "false\n",
      "false\n",
      "true\n"
     ]
    }
   ],
   "source": [
    "console.log(0.1 + 0.2);\n",
    "console.log(0.1 + 0.2 == 0.3); // == è un operatore di uguaglianza debole\n",
    "console.log(0.1 + 0.2 === 0.3); // === è un operatore di uguaglianza stretta\n",
    "// Dara sempre falso perchè si usa un sistema di approssimazione per i numeri decimali in virgola mobile\n",
    "if ((0.1 + 0.2) > 0.29 && (0.1 + 0.2) < 0.31) {\n",
    "    console.log('true');\n",
    "}"
   ]
  },
  {
   "cell_type": "code",
   "execution_count": 33,
   "metadata": {},
   "outputs": [
    {
     "name": "stdout",
     "output_type": "stream",
     "text": [
      "55\n",
      "string\n"
     ]
    }
   ],
   "source": [
    "console.log(5+\"5\"); // 55 converte il numero in stringa\n",
    "console.log(typeof (5+\"5\")); // string"
   ]
  },
  {
   "cell_type": "code",
   "execution_count": 35,
   "metadata": {},
   "outputs": [
    {
     "name": "stdout",
     "output_type": "stream",
     "text": [
      "number\n",
      "0.30000000000000004\n",
      "0.30\n",
      "string\n"
     ]
    }
   ],
   "source": [
    "let result = 0.1 + 0.2;\n",
    "console.log(typeof result); // number\n",
    "console.log(result); // 0.30000000000000004\n",
    "console.log(result.toFixed(2)); // 0.30 to fixed restituisce una stringa\n",
    "console.log(typeof result.toFixed(2)); // string"
   ]
  },
  {
   "cell_type": "code",
   "execution_count": 32,
   "metadata": {},
   "outputs": [
    {
     "name": "stdout",
     "output_type": "stream",
     "text": [
      "5\n",
      "object\n",
      "5\n",
      "object\n",
      "[ 1, 2, 3, 4, 5, 6 ]\n"
     ]
    }
   ],
   "source": [
    "let arrey = [1,2,3,4,5]; // sono delle liste non dei arrey come in java\n",
    "console.log(arrey.length);\n",
    "console.log(typeof arrey);\n",
    "let arrey1 = new Array(1,2,3,4,5);\n",
    "console.log(arrey1.length);\n",
    "console.log(typeof arrey1);\n",
    "arrey.push(6); // aggiunge un elemento in coda\n",
    "console.log(arrey);\n",
    "//Lampda o arrow function sono funzioni anonime che possono essere assegnate a una variabile per essere chiamate in seguito"
   ]
  }
 ],
 "metadata": {
  "kernelspec": {
   "display_name": "Deno",
   "language": "typescript",
   "name": "deno"
  },
  "language_info": {
   "file_extension": ".ts",
   "mimetype": "text/x.typescript",
   "name": "typescript",
   "nb_converter": "script",
   "pygments_lexer": "typescript",
   "version": "5.3.3"
  }
 },
 "nbformat": 4,
 "nbformat_minor": 4
}
