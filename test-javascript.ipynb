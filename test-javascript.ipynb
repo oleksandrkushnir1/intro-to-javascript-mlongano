{
 "cells": [
  {
   "cell_type": "code",
   "execution_count": 270,
   "metadata": {},
   "outputs": [
    {
     "name": "stdout",
     "output_type": "stream",
     "text": [
      "Hello, World!\n"
     ]
    }
   ],
   "source": [
    "console.log('Hello, World!');\n"
   ]
  },
  {
   "cell_type": "markdown",
   "metadata": {},
   "source": [
    "# Esempi di come si comportano i tipi di dati primitivi "
   ]
  },
  {
   "cell_type": "code",
   "execution_count": 271,
   "metadata": {},
   "outputs": [
    {
     "name": "stdout",
     "output_type": "stream",
     "text": [
      "22\n",
      "31\n",
      "hello\n",
      "hel\n"
     ]
    },
    {
     "data": {
      "text/plain": [
       "\u001b[32m\"object\"\u001b[39m"
      ]
     },
     "execution_count": 271,
     "metadata": {},
     "output_type": "execute_result"
    }
   ],
   "source": [
    "{\n",
    "    let age = 22;\n",
    "    let age1 = age;\n",
    "    age = 31;\n",
    "    console.log(age1);\n",
    "    console.log(age);\n",
    "\n",
    "    let immutable = \"hello\";\n",
    "    let copy = immutable.slice(0,3); // permette di estrarre dei pezzi di stringa\n",
    "    console.log(immutable);\n",
    "    console.log(copy);\n",
    "\n",
    "    let mutable = [1,2,3];\n",
    "    let mutablecopy = mutable;\n",
    "    typeof mutable;\n",
    "    typeof \"Hello\";\n",
    "    typeof [];\n",
    "    typeof {};\n",
    "}"
   ]
  },
  {
   "cell_type": "code",
   "execution_count": 272,
   "metadata": {},
   "outputs": [
    {
     "name": "stdout",
     "output_type": "stream",
     "text": [
      "[ 1, 2, 3, 4 ]\n",
      "[ 1, 2, 3, 4 ]\n"
     ]
    }
   ],
   "source": [
    "let mutable = [1,2,3];\n",
    "let mutablecopy = mutable;\n",
    "mutablecopy.push(4);\n",
    "console.log(mutable);\n",
    "console.log(mutablecopy);\n"
   ]
  },
  {
   "cell_type": "code",
   "execution_count": 273,
   "metadata": {},
   "outputs": [
    {
     "name": "stdout",
     "output_type": "stream",
     "text": [
      "0.30000000000000004\n",
      "false\n",
      "false\n",
      "true\n"
     ]
    }
   ],
   "source": [
    "console.log(0.1 + 0.2);\n",
    "console.log(0.1 + 0.2 == 0.3); // == è un operatore di uguaglianza debole\n",
    "console.log(0.1 + 0.2 === 0.3); // === è un operatore di uguaglianza stretta\n",
    "// Dara sempre falso perchè si usa un sistema di approssimazione per i numeri decimali in virgola mobile\n",
    "if ((0.1 + 0.2) > 0.29 && (0.1 + 0.2) < 0.31) {\n",
    "    console.log('true');\n",
    "}"
   ]
  },
  {
   "cell_type": "code",
   "execution_count": 274,
   "metadata": {},
   "outputs": [
    {
     "name": "stdout",
     "output_type": "stream",
     "text": [
      "55\n",
      "string\n"
     ]
    }
   ],
   "source": [
    "console.log(5+\"5\"); // 55 converte il numero in stringa\n",
    "console.log(typeof (5+\"5\")); // string"
   ]
  },
  {
   "cell_type": "code",
   "execution_count": 275,
   "metadata": {},
   "outputs": [
    {
     "name": "stdout",
     "output_type": "stream",
     "text": [
      "number\n",
      "0.30000000000000004\n",
      "0.30\n",
      "string\n"
     ]
    }
   ],
   "source": [
    "let result = 0.1 + 0.2;\n",
    "console.log(typeof result); // number\n",
    "console.log(result); // 0.30000000000000004\n",
    "console.log(result.toFixed(2)); // 0.30 to fixed restituisce una stringa\n",
    "console.log(typeof result.toFixed(2)); // string"
   ]
  },
  {
   "cell_type": "code",
   "execution_count": 276,
   "metadata": {},
   "outputs": [
    {
     "name": "stdout",
     "output_type": "stream",
     "text": [
      "5\n",
      "object\n",
      "5\n",
      "object\n",
      "[ 1, 2, 3, 4, 5, 6 ]\n",
      "[ 1, 4, 9, 16, 25, 36 ]\n"
     ]
    }
   ],
   "source": [
    "let arrey = [1,2,3,4,5]; // sono delle liste non dei arrey come in java\n",
    "console.log(arrey.length);\n",
    "console.log(typeof arrey);\n",
    "let arrey1 = new Array(1,2,3,4,5);\n",
    "console.log(arrey1.length);\n",
    "console.log(typeof arrey1);\n",
    "arrey.push(6); // aggiunge un elemento in coda\n",
    "console.log(arrey);\n",
    "\n",
    "\n",
    "let bHo = arrey.map(bho => bho*bho); // map è un metodo che prende una funzione come argomento e la applica a tutti gli elementi dell'arrey\n",
    "console.log(bHo);\n",
    "//Lampda o arrow function sono funzioni anonime che possono essere assegnate a una variabile per essere chiamate in seguito"
   ]
  },
  {
   "cell_type": "code",
   "execution_count": 277,
   "metadata": {},
   "outputs": [
    {
     "name": "stdout",
     "output_type": "stream",
     "text": [
      "89\n",
      "89\n",
      "true\n",
      "89\n"
     ]
    }
   ],
   "source": [
    "let cicciogamer = 90-1;\n",
    "console.log(Math.round(cicciogamer)); //Math è uba libreria che contiene metodi per operazioni matematiche gia presenti in javascript senza importarla\n",
    "console.log(Math.round(cicciogamer*100)/100);\n",
    "console.log(cicciogamer-10 == 79);\n",
    "console.log(cicciogamer.toString());"
   ]
  },
  {
   "cell_type": "code",
   "execution_count": 278,
   "metadata": {},
   "outputs": [
    {
     "name": "stdout",
     "output_type": "stream",
     "text": [
      "true\n"
     ]
    }
   ],
   "source": [
    "import { BigDenary } from \"https://deno.land/x/bigdenary/mod.ts\";\n",
    "let x = new BigDenary(0.1);\n",
    "let y = new BigDenary(0.2);\n",
    "let z = new BigDenary(0.3);\n",
    "console.log(x.plus(y).equals(z)); // BigDenary è una libreria che permette di fare operazioni matematiche con numeri decimali senza approssimazioni"
   ]
  },
  {
   "cell_type": "code",
   "execution_count": 2,
   "metadata": {},
   "outputs": [
    {
     "name": "stdout",
     "output_type": "stream",
     "text": [
      "22\n",
      "0\n"
     ]
    }
   ],
   "source": [
    "let a = \"2\";\n",
    "let b = 2;\n",
    "console.log(a + b); // lo vede come una stringa \"2\"+2 = \"22\"\n",
    "console.log(a - b);  // lo vede come un numero \"2\"-2 = 0"
   ]
  },
  {
   "cell_type": "code",
   "execution_count": 19,
   "metadata": {},
   "outputs": [
    {
     "ename": "ReferenceError",
     "evalue": "x is not defined",
     "output_type": "error",
     "traceback": [
      "Stack trace:",
      "ReferenceError: x is not defined",
      "    at <anonymous>:3:13"
     ]
    }
   ],
   "source": [
    "let cicciogamer1;\n",
    "let cicciogamer2 = cicciogamer1||1; // se y è undefined o null allora x = 1 altrimenti x = y\n",
    "console.log(x);"
   ]
  },
  {
   "cell_type": "code",
   "execution_count": 281,
   "metadata": {},
   "outputs": [
    {
     "name": "stdout",
     "output_type": "stream",
     "text": [
      "undefined\n"
     ]
    }
   ],
   "source": [
    "let y;\n",
    "let x=y&&1; // se y è undefined o null allora x = y altrimenti x = 1\n",
    "console.log(x);"
   ]
  },
  {
   "cell_type": "code",
   "execution_count": 282,
   "metadata": {},
   "outputs": [
    {
     "name": "stdout",
     "output_type": "stream",
     "text": [
      "HELLO, WORLD!\n",
      "HELLO, WORLD!\n",
      "123.46\n",
      "123.46\n",
      "true\n",
      "true\n"
     ]
    }
   ],
   "source": [
    "let myString = \"Hello, World!\";\n",
    "console.log(myString.toUpperCase()); // trasforma la stringa in maiuscolo\n",
    "console.log(new String (myString).toUpperCase()) // trasforma la stringa in maiuscolo\n",
    "\n",
    "let number = 123.456;\n",
    "console.log(number.toFixed(2)); // arrotonda il numero a 2 decimali\n",
    "console.log(new Number(number).toFixed(2)); // arrotonda il numero a 2 decimali\n",
    "\n",
    "let myBool = true;\n",
    "console.log(myBool.toString()); // trasforma il booleano in stringa\n",
    "console.log(new Boolean(myBool).toString()); // trasforma il booleano in stringa"
   ]
  },
  {
   "cell_type": "code",
   "execution_count": 283,
   "metadata": {},
   "outputs": [
    {
     "name": "stdout",
     "output_type": "stream",
     "text": [
      "5\n",
      "6\n",
      "[ 1, 2, 3, 4, 5, 6 ]\n",
      "object\n",
      "true\n"
     ]
    }
   ],
   "source": [
    "let arr = [1,2,3,4,5];\n",
    "console.log(arr.length); // restituisce la lunghezza dell'arrey\n",
    "let arrLength = arr.push(6); // aggiunge un elemento in coda (quello tra parentsi) e restituisce la lunghezza dell'arrey\n",
    "console.log(arrLength);\n",
    "console.log(arr);\n",
    "console.log(typeof arr);\n",
    "console.log(Array.isArray(arr)); // restituisce true se l'oggetto è un arrey"
   ]
  },
  {
   "cell_type": "code",
   "execution_count": 284,
   "metadata": {},
   "outputs": [
    {
     "name": "stdout",
     "output_type": "stream",
     "text": [
      "1,2,3,4,5 original\n",
      "6 pushed\n",
      "6 popped\n",
      "1,4,9,16,25 mapped\n",
      "4,5 filtered\n",
      "15 reduced\n",
      "1,2,3 sliced\n"
     ]
    }
   ],
   "source": [
    "\n",
    "let arr1 = [1,2,3,4,5];\n",
    "console.log(arr1 + \" original\"); \n",
    "console.log(arr1.push(6) + \" pushed\"); // aggiunge un elemento in coda e restituisce la lunghezza dell'arrey\n",
    "console.log(arr1.pop() + \" popped\"); // rimuove l'ultimo elemento e lo restituisce\n",
    "let arrmap = arr1.map(x => x*x); // applica una funzione a tutti gli elementi dell'arrey\n",
    "console.log(arrmap + \" mapped\");\n",
    "let arrfilter = arr1.filter(x => x>3); // restituisce un arrey con gli elementi che soddisfano la condizione\n",
    "console.log(arrfilter+ \" filtered\");\n",
    "let arrreduce = arr1.reduce((acc, x) => acc+x); // restituisce un valore singolo ottenuto applicando una funzione a tutti gli elementi dell'arrey\n",
    "console.log(arrreduce+ \" reduced\");\n",
    "let arrslice = arr1.slice(0,3); // restituisce un arrey con gli elementi tra gli indici 0 e 3\n",
    "console.log(arrslice+ \" sliced\");\n"
   ]
  },
  {
   "cell_type": "markdown",
   "metadata": {},
   "source": [
    "# Funzioni in javascript \n",
    "la funzione in JS sono oggetti di prima classe, possono essere passate come argomenti , assegnate a variabili e resistuite da altre funzioni.\n",
    "\n",
    "Esistono due modi per definire una funzione in JS: function declaration e function expression\n",
    "    - Dichiarazione/Istruzione di funzione \n",
    "    - Espressione di funzione (due modi)\n",
    "\n",
    "### Dichiarazione di funzione \n"
   ]
  },
  {
   "cell_type": "code",
   "execution_count": 285,
   "metadata": {},
   "outputs": [
    {
     "name": "stdout",
     "output_type": "stream",
     "text": [
      "3\n",
      "[Function: add]\n"
     ]
    }
   ],
   "source": [
    "\n",
    "\n",
    "function add(a:number, b:number):number {\n",
    "    return a + b;\n",
    "}\n",
    "\n",
    "let risultato = add(1, 2);\n",
    "console.log(risultato);\n",
    "console.log(add); // oggetto di tipo funzione"
   ]
  },
  {
   "cell_type": "markdown",
   "metadata": {},
   "source": [
    "### Espressione di funzione :"
   ]
  },
  {
   "cell_type": "code",
   "execution_count": 286,
   "metadata": {},
   "outputs": [
    {
     "name": "stdout",
     "output_type": "stream",
     "text": [
      "3\n",
      "[Function: add1]\n"
     ]
    }
   ],
   "source": [
    "const add1 = function (a:number, b:number):number{\n",
    "    return a+b;\n",
    "}\n",
    "console.log(add1(1,2));\n",
    "console.log(add1);          "
   ]
  },
  {
   "cell_type": "markdown",
   "metadata": {},
   "source": [
    "### Arrow function"
   ]
  },
  {
   "cell_type": "code",
   "execution_count": 287,
   "metadata": {},
   "outputs": [
    {
     "name": "stdout",
     "output_type": "stream",
     "text": [
      "3\n"
     ]
    }
   ],
   "source": [
    "const bho = (a:number, b:number):number => { \n",
    "    return a+b; }\n",
    "    console.log(bho(1,2));"
   ]
  },
  {
   "cell_type": "code",
   "execution_count": 288,
   "metadata": {},
   "outputs": [
    {
     "name": "stdout",
     "output_type": "stream",
     "text": [
      "3\n"
     ]
    }
   ],
   "source": [
    "const bho1 = (a:number, b:number):number => a+b;\n",
    "console.log(bho1(1,2));"
   ]
  },
  {
   "cell_type": "code",
   "execution_count": 1,
   "metadata": {},
   "outputs": [
    {
     "name": "stdout",
     "output_type": "stream",
     "text": [
      "Contatore1 con contatore fuori dalla function()\n",
      "Contatore A : 0\n",
      "Contatore A : 1\n",
      "Contatore B : 0\n",
      "Contatore C : 0\n",
      "Contatore B : 1\n",
      "Contatore1 con contatore nella function()\n",
      "Contatore A : 0\n",
      "Contatore A : 0\n",
      "Contatore B : 0\n",
      "Contatore C : 0\n",
      "Contatore B : 0\n"
     ]
    }
   ],
   "source": [
    "// CLOSURE\n",
    "// Una cloure è una funzione che cattura le variabili dall'ambiente circostante in cui è stata dichiarata\n",
    "function creaContatore(){  \n",
    "    let contatore = 0;\n",
    "    return function(){\n",
    "        return contatore++;\n",
    "    };\n",
    "}\n",
    "const contatoreA = creaContatore();\n",
    "const contatoreB = creaContatore();\n",
    "const contatoreC = creaContatore();\n",
    "console.log( \"Contatore1 con contatore fuori dalla function()\" )\n",
    "console.log( \"Contatore A : \" + contatoreA() ); // 0\n",
    "console.log( \"Contatore A : \" + contatoreA() ); // 1\n",
    "console.log( \"Contatore C : \" + contatoreC() ); // 0\n",
    "console.log( \"Contatore B : \" + contatoreB() ); // 0\n",
    "console.log( \"Contatore B : \" + contatoreB() ); // 1\n",
    "\n",
    "function creaContatore1(){  \n",
    "    return function(){\n",
    "        let contatore = 0;\n",
    "        return contatore++;\n",
    "    };\n",
    "}\n",
    "const contatoreA1 = creaContatore1();\n",
    "const contatoreB1 = creaContatore1();\n",
    "const contatoreC1 = creaContatore1();\n",
    "console.log( \"Contatore1 con contatore nella function()\" ); \n",
    "console.log( \"Contatore A : \" + contatoreA1() ); // 0\n",
    "console.log( \"Contatore A : \" + contatoreA1() ); // 0\n",
    "console.log( \"Contatore B : \" + contatoreB1() ); // 0\n",
    "console.log( \"Contatore C : \" + contatoreC1() ); // 0\n",
    "console.log( \"Contatore B : \" + contatoreB1() ); // 0\n",
    "\n"
   ]
  },
  {
   "cell_type": "code",
   "execution_count": 10,
   "metadata": {},
   "outputs": [
    {
     "name": "stdout",
     "output_type": "stream",
     "text": [
      "valore\n",
      "valore1\n"
     ]
    }
   ],
   "source": [
    "// Oggetti in JAVASCRIPT\n",
    "// GLi oggetti in JavaScript sono delle collezioni di coppie chiave-valore\n",
    "\n",
    "const oggetto = {\n",
    "    chiave: \"valore\",\n",
    "    chiave1: \"valore1\"\n",
    "};\n",
    "\n",
    "// Accesso ai valori\n",
    "console.log(oggetto.chiave); \n",
    "console.log(oggetto[\"chiave1\"]); "
   ]
  },
  {
   "cell_type": "markdown",
   "metadata": {},
   "source": [
    "# TYPESCRIPT è il tentativo di Mincrosoft di introdurre i tipi in javascript."
   ]
  },
  {
   "cell_type": "code",
   "execution_count": 46,
   "metadata": {},
   "outputs": [
    {
     "name": "stdout",
     "output_type": "stream",
     "text": [
      "4800\n",
      "576\n",
      "2\n"
     ]
    }
   ],
   "source": [
    "let numbers = [1,2,3,4];\n",
    "\n",
    "\n",
    "// Operatore Spead può essere usato per espandere gli elementi di un array in un altro array o in parametri di funzione\n",
    "function multiplyTs(...args: number[]) {\n",
    "    return args.reduce((a, b) => a * b); // vedere la funzione reduce descrtta in segui\n",
    "    }\n",
    "function multiplyJs() {\n",
    "    // return Array.prototype.reduce.call(arguments, (a, b) => a * b);\n",
    "    // arguments è un oggetto 'simile' ad un array che contiene i parametri passati alla\n",
    "    return [...arguments].reduce((a, b) => a * b);\n",
    "}\n",
    "    let numbersExtended = [...numbers, 2, 3, 4];\n",
    "    console.log(multiplyTs(...numbers, 10, 20));\n",
    "    console.log(multiplyJs(...numbersExtended)); \n",
    "    console.log(multiplyJs(2, 1, 1));\n",
    "\n",
    "\n",
    "\n"
   ]
  },
  {
   "cell_type": "code",
   "execution_count": 45,
   "metadata": {},
   "outputs": [
    {
     "name": "stdout",
     "output_type": "stream",
     "text": [
      "[Arguments] { \"0\": 1, \"1\": 2, \"2\": 3, \"3\": 4, \"4\": 5 }\n",
      "5\n",
      "false\n",
      "[\n",
      "  1, 2, 3, 4,  5,\n",
      "  6, 7, 8, 9, 10\n",
      "]\n",
      "[\n",
      "   1, 2, 3, 4,  5,\n",
      "   6, 7, 8, 9, 10,\n",
      "  11\n",
      "]\n"
     ]
    }
   ],
   "source": [
    "function exampleArgs1(...args: number[]) {\n",
    "    console.log(arguments);\n",
    "    console.log(arguments.length);\n",
    "}\n",
    "exampleArgs1(1, 2, 3, 4, 5);\n",
    "\n",
    "const pippo = [1,2,3,4,5,6,7,8,9,10]; // arrey di 10 elementi\n",
    "const pluto = [... pippo]; // copia l'arrey pippo in pluto pero sono due oggetti diversi ... è l'operatore spread permette di espandere gli elementi di un arrey in un altro arrey\n",
    "console.log(pippo === pluto); // false perchè sono due oggetti diversi\n",
    "console.log(pippo);\n",
    "pluto[10] = 11;\n",
    "console.log(pluto);"
   ]
  },
  {
   "cell_type": "code",
   "execution_count": 54,
   "metadata": {},
   "outputs": [
    {
     "name": "stdout",
     "output_type": "stream",
     "text": [
      "10\n"
     ]
    }
   ],
   "source": [
    "let a1: number, b1, rest;\n",
    "const lista = [10, 20];\n",
    "a1 = lista[0];\n",
    "b1 = lista[1];\n",
    "const c = {c:10, d:20};\n",
    "console.log(a1);"
   ]
  },
  {
   "cell_type": "code",
   "execution_count": 56,
   "metadata": {},
   "outputs": [
    {
     "name": "stdout",
     "output_type": "stream",
     "text": [
      "{ a1: 10, a2: { a3: 30, a4: 40 } }\n",
      "{ a1: 10, a2: { a3: 30, a4: 40 } }\n",
      "false\n",
      "true\n"
     ]
    },
    {
     "ename": "",
     "evalue": "",
     "output_type": "error",
     "traceback": [
      "\u001b[1;31mThe Kernel crashed while executing code in the the current cell or a previous cell. Please review the code in the cell(s) to identify a possible cause of the failure. Click <a href='https://aka.ms/vscodeJupyterKernelCrash'>here</a> for more info. View Jupyter <a href='command:jupyter.viewOutput'>log</a> for further details."
     ]
    }
   ],
   "source": [
    "const oggetto1 = {\n",
    "    a1: 10,\n",
    "    a2: {\n",
    "    a3: 30,\n",
    "    a4: 40\n",
    "    }\n",
    "}\n",
    "const oggetto2 = {\n",
    "    ...oggetto1, //shallow copy copia solo il primo livello dell'oggetto\n",
    "}\n",
    "console.log(oggetto1);\n",
    "console.log(oggetto2);\n",
    "console.log(oggetto1 === oggetto2); // false perchè sono due oggetti diversi\n",
    "console.log(oggetto1.a2.a4 === oggetto2.a2.a4); // false perchè sono due oggetti diversi\n"
   ]
  },
  {
   "cell_type": "code",
   "execution_count": 24,
   "metadata": {},
   "outputs": [
    {
     "name": "stdout",
     "output_type": "stream",
     "text": [
      "1\n",
      "2\n",
      "3\n",
      "4\n",
      "5\n",
      "1\n",
      "2\n",
      "3\n",
      "4\n",
      "5\n",
      "1\n",
      "2\n",
      "3\n",
      "4\n",
      "5\n",
      "1\n",
      "2\n",
      "3\n",
      "4\n",
      "5\n",
      "[ undefined, undefined, undefined, undefined, undefined ]\n"
     ]
    }
   ],
   "source": [
    "{\n",
    "const numbers = [1,2,3,4,5];\n",
    "for (let i = 0; i < numbers.length; i++) {\n",
    "    console.log(numbers[i]);\n",
    "}\n",
    "for(let x of numbers) {\n",
    "    console.log(x);\n",
    "}\n",
    "numbers.forEach((number) => {\n",
    "    console.log(number);\n",
    "});\n",
    "let a = numbers.map((number) => console.log(number));\n",
    "console.log(a);\n",
    "}"
   ]
  },
  {
   "cell_type": "code",
   "execution_count": null,
   "metadata": {},
   "outputs": [],
   "source": [
    "// Oggetto.key\n",
    "// Oggetto [\"key 1\"]"
   ]
  }
 ],
 "metadata": {
  "kernelspec": {
   "display_name": "Deno",
   "language": "typescript",
   "name": "deno"
  },
  "language_info": {
   "file_extension": ".ts",
   "mimetype": "text/x.typescript",
   "name": "typescript",
   "nb_converter": "script",
   "pygments_lexer": "typescript",
   "version": "5.3.3"
  }
 },
 "nbformat": 4,
 "nbformat_minor": 4
}
