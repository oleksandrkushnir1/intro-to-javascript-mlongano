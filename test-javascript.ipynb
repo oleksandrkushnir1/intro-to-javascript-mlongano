{
 "cells": [
  {
   "cell_type": "code",
   "execution_count": 5,
   "metadata": {},
   "outputs": [
    {
     "name": "stdout",
     "output_type": "stream",
     "text": [
      "Hello, World!\n"
     ]
    }
   ],
   "source": [
    "console.log('Hello, World!');\n"
   ]
  },
  {
   "cell_type": "markdown",
   "metadata": {},
   "source": [
    "# Esempi di come si comportano i tipi di dati primitivi "
   ]
  },
  {
   "cell_type": "code",
   "execution_count": 6,
   "metadata": {},
   "outputs": [
    {
     "name": "stdout",
     "output_type": "stream",
     "text": [
      "22\n",
      "31\n",
      "hello\n",
      "hel\n"
     ]
    },
    {
     "data": {
      "text/plain": [
       "\u001b[32m\"object\"\u001b[39m"
      ]
     },
     "execution_count": 6,
     "metadata": {},
     "output_type": "execute_result"
    }
   ],
   "source": [
    "{\n",
    "    let age = 22;\n",
    "    let age1 = age;\n",
    "    age = 31;\n",
    "    console.log(age1);\n",
    "    console.log(age);\n",
    "\n",
    "    let immutable = \"hello\";\n",
    "    let copy = immutable.slice(0,3); // permette di estrarre dei pezzi di stringa\n",
    "    console.log(immutable);\n",
    "    console.log(copy);\n",
    "\n",
    "    let mutable = [1,2,3];\n",
    "    let mutablecopy = mutable;\n",
    "    typeof mutable;\n",
    "    typeof \"Hello\";\n",
    "    typeof [];\n",
    "    typeof {};\n",
    "}"
   ]
  },
  {
   "cell_type": "code",
   "execution_count": 7,
   "metadata": {},
   "outputs": [
    {
     "name": "stdout",
     "output_type": "stream",
     "text": [
      "[ 1, 2, 2, 4 ]\n",
      "[ 1, 2, 2, 4 ]\n"
     ]
    }
   ],
   "source": [
    "let mutable = [1,2,3];\n",
    "let mutablecopy = mutable;\n",
    "mutablecopy.push(4);\n",
    "console.log(mutable);\n",
    "console.log(mutablecopy);\n"
   ]
  },
  {
   "cell_type": "code",
   "execution_count": 27,
   "metadata": {},
   "outputs": [
    {
     "name": "stdout",
     "output_type": "stream",
     "text": [
      "0.30000000000000004\n",
      "false\n",
      "false\n",
      "true\n"
     ]
    }
   ],
   "source": [
    "console.log(0.1 + 0.2);\n",
    "console.log(0.1 + 0.2 == 0.3); // == è un operatore di uguaglianza debole\n",
    "console.log(0.1 + 0.2 === 0.3); // === è un operatore di uguaglianza stretta\n",
    "// Dara sempre falso perchè si usa un sistema di approssimazione per i numeri decimali in virgola mobile\n",
    "if ((0.1 + 0.2) > 0.29 && (0.1 + 0.2) < 0.31) {\n",
    "    console.log('true');\n",
    "}"
   ]
  },
  {
   "cell_type": "code",
   "execution_count": 33,
   "metadata": {},
   "outputs": [
    {
     "name": "stdout",
     "output_type": "stream",
     "text": [
      "55\n",
      "string\n"
     ]
    }
   ],
   "source": [
    "console.log(5+\"5\"); // 55 converte il numero in stringa\n",
    "console.log(typeof (5+\"5\")); // string"
   ]
  },
  {
   "cell_type": "code",
   "execution_count": 35,
   "metadata": {},
   "outputs": [
    {
     "name": "stdout",
     "output_type": "stream",
     "text": [
      "number\n",
      "0.30000000000000004\n",
      "0.30\n",
      "string\n"
     ]
    }
   ],
   "source": [
    "let result = 0.1 + 0.2;\n",
    "console.log(typeof result); // number\n",
    "console.log(result); // 0.30000000000000004\n",
    "console.log(result.toFixed(2)); // 0.30 to fixed restituisce una stringa\n",
    "console.log(typeof result.toFixed(2)); // string"
   ]
  },
  {
   "cell_type": "code",
   "execution_count": 33,
   "metadata": {},
   "outputs": [
    {
     "name": "stdout",
     "output_type": "stream",
     "text": [
      "5\n",
      "object\n",
      "5\n",
      "object\n",
      "[ 1, 2, 3, 4, 5, 6 ]\n",
      "[ 1, 4, 9, 16, 25, 36 ]\n"
     ]
    }
   ],
   "source": [
    "let arrey = [1,2,3,4,5]; // sono delle liste non dei arrey come in java\n",
    "console.log(arrey.length);\n",
    "console.log(typeof arrey);\n",
    "let arrey1 = new Array(1,2,3,4,5);\n",
    "console.log(arrey1.length);\n",
    "console.log(typeof arrey1);\n",
    "arrey.push(6); // aggiunge un elemento in coda\n",
    "console.log(arrey);\n",
    "\n",
    "\n",
    "let bHo = arrey.map(bho => bho*bho); // map è un metodo che prende una funzione come argomento e la applica a tutti gli elementi dell'arrey\n",
    "console.log(bHo);\n",
    "//Lampda o arrow function sono funzioni anonime che possono essere assegnate a una variabile per essere chiamate in seguito"
   ]
  },
  {
   "cell_type": "code",
   "execution_count": 44,
   "metadata": {},
   "outputs": [
    {
     "name": "stdout",
     "output_type": "stream",
     "text": [
      "89\n",
      "89\n",
      "true\n",
      "89\n"
     ]
    }
   ],
   "source": [
    "let cicciogamer = 90-1;\n",
    "console.log(Math.round(cicciogamer)); //Math è uba libreria che contiene metodi per operazioni matematiche gia presenti in javascript senza importarla\n",
    "console.log(Math.round(cicciogamer*100)/100);\n",
    "console.log(cicciogamer-10 == 79);\n",
    "console.log(cicciogamer.toString());"
   ]
  },
  {
   "cell_type": "code",
   "execution_count": 50,
   "metadata": {},
   "outputs": [
    {
     "name": "stdout",
     "output_type": "stream",
     "text": [
      "true\n"
     ]
    }
   ],
   "source": [
    "import { BigDenary } from \"https://deno.land/x/bigdenary/mod.ts\";\n",
    "let x = new BigDenary(0.1);\n",
    "let y = new BigDenary(0.2);\n",
    "let z = new BigDenary(0.3);\n",
    "console.log(x.plus(y).equals(z)); // BigDenary è una libreria che permette di fare operazioni matematiche con numeri decimali senza approssimazioni"
   ]
  },
  {
   "cell_type": "code",
   "execution_count": 94,
   "metadata": {},
   "outputs": [
    {
     "name": "stdout",
     "output_type": "stream",
     "text": [
      "22\n",
      "0\n"
     ]
    }
   ],
   "source": [
    "let a = \"2\";\n",
    "let b = 2;\n",
    "console.log(a + b); // lo vede come una stringa \"2\"+2 = \"22\"\n",
    "console.log(a - b);  // lo vede come un numero \"2\"-2 = 0"
   ]
  },
  {
   "cell_type": "code",
   "execution_count": 98,
   "metadata": {},
   "outputs": [
    {
     "name": "stdout",
     "output_type": "stream",
     "text": [
      "23\n"
     ]
    }
   ],
   "source": [
    "let y;\n",
    "let x = y||1; // se y è undefined o null allora x = 1 altrimenti x = y\n",
    "console.log(x);"
   ]
  },
  {
   "cell_type": "code",
   "execution_count": 117,
   "metadata": {},
   "outputs": [
    {
     "name": "stdout",
     "output_type": "stream",
     "text": [
      "undefined\n"
     ]
    }
   ],
   "source": [
    "let y;\n",
    "let x=y&&1; // se y è undefined o null allora x = y altrimenti x = 1\n",
    "console.log(x);"
   ]
  },
  {
   "cell_type": "code",
   "execution_count": 126,
   "metadata": {},
   "outputs": [
    {
     "name": "stdout",
     "output_type": "stream",
     "text": [
      "HELLO, WORLD!\n",
      "HELLO, WORLD!\n",
      "123.46\n",
      "123.46\n",
      "true\n",
      "true\n"
     ]
    }
   ],
   "source": [
    "let myString = \"Hello, World!\";\n",
    "console.log(myString.toUpperCase()); // trasforma la stringa in maiuscolo\n",
    "console.log(new String (myString).toUpperCase()) // trasforma la stringa in maiuscolo\n",
    "\n",
    "let number = 123.456;\n",
    "console.log(number.toFixed(2)); // arrotonda il numero a 2 decimali\n",
    "console.log(new Number(number).toFixed(2)); // arrotonda il numero a 2 decimali\n",
    "\n",
    "let myBool = true;\n",
    "console.log(myBool.toString()); // trasforma il booleano in stringa\n",
    "console.log(new Boolean(myBool).toString()); // trasforma il booleano in stringa"
   ]
  }
 ],
 "metadata": {
  "kernelspec": {
   "display_name": "Deno",
   "language": "typescript",
   "name": "deno"
  },
  "language_info": {
   "file_extension": ".ts",
   "mimetype": "text/x.typescript",
   "name": "typescript",
   "nb_converter": "script",
   "pygments_lexer": "typescript",
   "version": "5.3.3"
  }
 },
 "nbformat": 4,
 "nbformat_minor": 4
}
